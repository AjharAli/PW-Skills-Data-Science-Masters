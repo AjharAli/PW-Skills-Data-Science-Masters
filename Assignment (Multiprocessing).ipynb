{
 "cells": [
  {
   "cell_type": "markdown",
   "id": "b321375d",
   "metadata": {},
   "source": [
    "# PW Skills Data Science Masters \n",
    "\n",
    "## Assignment "
   ]
  },
  {
   "cell_type": "markdown",
   "id": "2bfc0f00",
   "metadata": {},
   "source": [
    "##### Q1. What is multiprocessing in python? Why is it useful?\n",
    "##### Ans- Multiprocessing in Python is a built-in package that allows the system to run multiple processes simultaneously. It will enable the breaking of applications into smaller threads that can run independently. It is useful because the multiprocessing package offers both local and remote concurrency, effectively side-stepping the Global Interpreter Lock by using subprocesses instead of threads."
   ]
  },
  {
   "cell_type": "code",
   "execution_count": null,
   "id": "0df3c477",
   "metadata": {},
   "outputs": [],
   "source": []
  },
  {
   "cell_type": "markdown",
   "id": "75caa939",
   "metadata": {},
   "source": [
    "##### Q2. What are the differences between multiprocessing and multithreading?\n",
    "##### Ans- \n",
    "|   |Multiprocessing                                               || Multithreding            |\n",
    "|------|-----------------------------------------------------------||--------------------------------------------------|\n",
    "|1. | In Multiprocessing, CPUs are added for increasing computing power. ||\tWhile In Multithreading, many threads are created of a single process for increasing computing power.\n",
    "|2.|\tIn Multiprocessing, Many processes are executed simultaneously. ||\tWhile in multithreading, many threads of a process are executed simultaneously.\n",
    "| 3.|   Multiprocessing are classified into Symmetric and Asymmetric.||\tWhile Multithreading is not classified in any categories.\n",
    "| 4.| In Multiprocessing, Process creation is a time-consuming process. ||\tWhile in Multithreading, process creation is according to economical.\n",
    "|5.|\tIn Multiprocessing, every process owned a separate address space.||\tWhile in Multithreading, a common address space is shared by all the threads."
   ]
  },
  {
   "cell_type": "code",
   "execution_count": null,
   "id": "49e1a1e2",
   "metadata": {},
   "outputs": [],
   "source": []
  },
  {
   "cell_type": "markdown",
   "id": "83f8f7fd",
   "metadata": {},
   "source": [
    "##### Q3. Write a python code to create a process using the multiprocessing module.\n",
    "##### Ans- "
   ]
  },
  {
   "cell_type": "code",
   "execution_count": 1,
   "id": "69c9cd1f",
   "metadata": {},
   "outputs": [
    {
     "name": "stdout",
     "output_type": "stream",
     "text": [
      "this is my main prod\n"
     ]
    }
   ],
   "source": [
    "import multiprocessing\n",
    "\n",
    "def test():\n",
    "    print(\"this is my multiprocessing prog\")\n",
    "\n",
    "if __name__ == \"__main__\":\n",
    "    m = multiprocessing.Process(target=test)\n",
    "    print(\"this is my main prod\")\n",
    "    m.start()\n",
    "    m.join()\n",
    "    "
   ]
  },
  {
   "cell_type": "code",
   "execution_count": null,
   "id": "035eb1f1",
   "metadata": {},
   "outputs": [],
   "source": []
  },
  {
   "cell_type": "markdown",
   "id": "72eee286",
   "metadata": {},
   "source": [
    "##### Q4. What is a multiprocessing pool in python? Why is it used?\n",
    "##### Ans- The Python Multiprocessing Pool class allows you to create and manage process pools in Python. Although the Multiprocessing Pool has been available in Python for a long time, it is not widely used, perhaps because of misunderstandings of the capabilities and limitations of Processes and Threads in Python. Python multiprocessing Pool can be used for parallel execution of a function across multiple input values, distributing the input data across processes (data parallelism). Below is a simple. "
   ]
  },
  {
   "cell_type": "code",
   "execution_count": null,
   "id": "d65b27e1",
   "metadata": {},
   "outputs": [],
   "source": [
    "import multiprocessing\n",
    "\n",
    "def square(n):\n",
    "    return n**2\n",
    "if __name__ == '__main__':\n",
    "    with multiprocessing.Pool(processes=5) as pool :\n",
    "        out =pool.map(square , [3,4,5,6,6,7,87,8,8])\n",
    "        print(out)"
   ]
  },
  {
   "cell_type": "code",
   "execution_count": null,
   "id": "4a61d972",
   "metadata": {},
   "outputs": [],
   "source": []
  },
  {
   "cell_type": "markdown",
   "id": "639067ec",
   "metadata": {},
   "source": [
    "##### Q5. How can we create a pool of worker processes in python using the multiprocessing module?\n",
    "##### Ans-"
   ]
  },
  {
   "cell_type": "code",
   "execution_count": null,
   "id": "9ec977b6",
   "metadata": {},
   "outputs": [],
   "source": [
    "\n",
    "import multiprocessing\n",
    "import os\n",
    "  \n",
    "def worker1():\n",
    "  \n",
    "    print(\"ID of process running worker1: {}\".format(os.getpid()))\n",
    "def worker2():\n",
    "    # printing process id\n",
    "    print(\"ID of process running worker2: {}\".format(os.getpid()))\n",
    "if __name__ == \"__main__\":\n",
    "    # printing main program process id\n",
    "    print(\"ID of main process: {}\".format(os.getpid()))\n",
    "  \n",
    "    # creating processes\n",
    "    p1 = multiprocessing.Process(target=worker1)\n",
    "    p2 = multiprocessing.Process(target=worker2)\n",
    "\n",
    "    p1.start()\n",
    "    p2.start()\n",
    "    \n",
    "    print(\"ID of process p1: {}\".format(p1.pid))\n",
    "    print(\"ID of process p2: {}\".format(p2.pid))\n",
    "  \n",
    "    # wait until processes are finished\n",
    "    p1.join()\n",
    "    p2.join()\n",
    "  \n",
    "    # both processes finished\n",
    "    print(\"Both processes finished execution!\")\n",
    "  \n",
    "    # check if processes are alive\n",
    "    print(\"Process p1 is alive: {}\".format(p1.is_alive()))\n",
    "    print(\"Process p2 is alive: {}\".format(p2.is_alive()))"
   ]
  },
  {
   "cell_type": "code",
   "execution_count": null,
   "id": "034939fd",
   "metadata": {},
   "outputs": [],
   "source": []
  },
  {
   "cell_type": "markdown",
   "id": "4d326660",
   "metadata": {},
   "source": [
    "##### Q6. Write a python program to create 4 processes, each process should print a different number using the multiprocessing module in python.\n",
    "##### Ans-"
   ]
  },
  {
   "cell_type": "code",
   "execution_count": null,
   "id": "f64c98a3",
   "metadata": {},
   "outputs": [],
   "source": [
    "import multiprocessing\n",
    "import os\n",
    "  \n",
    "def worker1():\n",
    "    \n",
    "    print(\"ID of process running worker1: {}\".format(os.getpid()))\n",
    "def worker2():\n",
    " \n",
    "    print(\"ID of process running worker2: {}\".format(os.getpid()))\n",
    "def worker3():\n",
    "    \n",
    "    print(\"ID of process running worker3: {}\".format(os.getpid()))\n",
    "def worker4():\n",
    "    \n",
    "    print(\"ID of process running worker4: {}\".format(os.getpid()))\n",
    "if __name__ == \"__main__\":\n",
    "    \n",
    "    print(\"ID of main process: {}\".format(os.getpid()))\n",
    "  \n",
    "    p1 = multiprocessing.Process(target=worker1)\n",
    "    p2 = multiprocessing.Process(target=worker2)\n",
    "    p3 = multiprocessing.Process(target=worker3)\n",
    "    p4 = multiprocessing.Process(target=worker4)\n",
    "    p1.start()\n",
    "    p2.start()\n",
    "    p3.start()\n",
    "    p4.start()\n",
    "    print(\"ID of process p1: {}\".format(p1.pid))\n",
    "    print(\"ID of process p2: {}\".format(p2.pid))\n",
    "    print(\"ID of process p3: {}\".format(p3.pid))\n",
    "    print(\"ID of process p4: {}\".format(p4.pid))\n",
    "\n",
    "    p1.join()\n",
    "    p2.join()\n",
    "    p3.join()\n",
    "    p4.join()\n",
    "\n",
    "    print(\"Both processes finished execution!\")\n",
    "  \n",
    "    print(\"Process p1 is alive: {}\".format(p1.is_alive()))\n",
    "    print(\"Process p2 is alive: {}\".format(p2.is_alive()))\n",
    "    print(\"Process p3 is alive: {}\".format(p3.is_alive()))\n",
    "    print(\"Process p4 is alive: {}\".format(p4.is_alive()))"
   ]
  },
  {
   "cell_type": "code",
   "execution_count": null,
   "id": "c5aa6917",
   "metadata": {},
   "outputs": [],
   "source": []
  }
 ],
 "metadata": {
  "kernelspec": {
   "display_name": "Python 3 (ipykernel)",
   "language": "python",
   "name": "python3"
  },
  "language_info": {
   "codemirror_mode": {
    "name": "ipython",
    "version": 3
   },
   "file_extension": ".py",
   "mimetype": "text/x-python",
   "name": "python",
   "nbconvert_exporter": "python",
   "pygments_lexer": "ipython3",
   "version": "3.9.13"
  }
 },
 "nbformat": 4,
 "nbformat_minor": 5
}
