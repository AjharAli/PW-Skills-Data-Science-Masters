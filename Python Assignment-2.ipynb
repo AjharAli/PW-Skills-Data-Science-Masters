{
 "cells": [
  {
   "cell_type": "markdown",
   "id": "5626cc13",
   "metadata": {},
   "source": [
    "   # PW Skill Data Science Masters\n",
    "   ## Python Assignment-2"
   ]
  },
  {
   "cell_type": "code",
   "execution_count": 1,
   "id": "26a49fb7",
   "metadata": {},
   "outputs": [
    {
     "name": "stdout",
     "output_type": "stream",
     "text": [
      "Enter the marks here: 40\n",
      "Grade is D\n"
     ]
    }
   ],
   "source": [
    "\n",
    "# Ques.1- write a progarm to accept percentage from the user and display the grade according to the following criteeria:\n",
    "\n",
    "# Source code:-\n",
    "\n",
    "marks=int(input(\"Enter the marks here: \"))\n",
    "if marks>90:\n",
    "        Grade='A'\n",
    "        print(\"Grade is\",Grade)\n",
    "elif marks>80 and marks<=90:\n",
    "        Grade='B'\n",
    "        print(\"Grade is\",Grade)\n",
    "elif marks>=60 and marks<=80:\n",
    "        Grade='C'\n",
    "        print(\"Grade is\",Grade)\n",
    "else:\n",
    "    Grade='D'\n",
    "    print(\"Grade is\",Grade)"
   ]
  },
  {
   "cell_type": "code",
   "execution_count": 2,
   "id": "a68ad310",
   "metadata": {},
   "outputs": [
    {
     "name": "stdout",
     "output_type": "stream",
     "text": [
      "Enter the cost price of bike : 10000\n",
      "Road tax to be paid 500.0\n"
     ]
    }
   ],
   "source": [
    "# Ques.2- write a progarm to accept the code price of a bike and display the tax to be paid according to the following criteria:\n",
    "  \n",
    "# Source code:-\n",
    "    \n",
    "cost_price=int(input(\"Enter the cost price of bike : \"))\n",
    "if cost_price>100000:\n",
    "        print(\"Road tax to be paid\",cost_price*0.15)\n",
    "elif cost_price>50000 and cost_price<=100000:\n",
    "        print(\"Road tax to be paid\",cost_price*0.1)\n",
    "elif cost_price<=50000:\n",
    "        print(\"Road tax to be paid\",cost_price*0.05)\n"
   ]
  },
  {
   "cell_type": "code",
   "execution_count": 3,
   "id": "b4739768",
   "metadata": {},
   "outputs": [
    {
     "name": "stdout",
     "output_type": "stream",
     "text": [
      "Enter the city : Agra\n",
      "Monument is Taj Mahal\n"
     ]
    }
   ],
   "source": [
    "# Ques.3- Accept any city from the user and display monuments of that city.\n",
    "\n",
    "# Source code:-\n",
    "\n",
    "city =input(\"Enter the city : \")\n",
    "if city=='Delhi':\n",
    "    monument='Red Fort'\n",
    "    print(\"Monument is\",monument)\n",
    "elif city=='Agra':\n",
    "    monument='Taj Mahal'\n",
    "    print(\"Monument is\",monument)\n",
    "elif city=='Jaipur':\n",
    "    monument='Jal Mahal'\n",
    "    print(\"Monument is\",monument)\n"
   ]
  },
  {
   "cell_type": "code",
   "execution_count": 4,
   "id": "a25f107c",
   "metadata": {},
   "outputs": [
    {
     "name": "stdout",
     "output_type": "stream",
     "text": [
      "Enter the nummber: 400\n",
      "Number can be divided 4 times by 3 and after that it will be less or equal to 10\n"
     ]
    }
   ],
   "source": [
    "# Ques.4- Check how many times a given number can be divided by 3 before it is less than or equal to 10.\n",
    "\n",
    "# Source code:-\n",
    "\n",
    "n=int(input(\"Enter the nummber: \"))\n",
    "count=0\n",
    "while(n>10):\n",
    "    count=count+1\n",
    "    n=n//3\n",
    "print(\"Number can be divided\",count ,\"times by 3 and after that it will be less or equal to 10\")\n",
    "\n",
    "\n"
   ]
  },
  {
   "cell_type": "code",
   "execution_count": 5,
   "id": "eb6d0fd9",
   "metadata": {},
   "outputs": [
    {
     "name": "stdout",
     "output_type": "stream",
     "text": [
      "1\n",
      "2\n",
      "3\n",
      "4\n",
      "5\n"
     ]
    }
   ],
   "source": [
    "# Ques5- Why and when to use while  loop in python give a detailed description with example?\n",
    "# Ans- Python while loop is used to run a block code until a certain condition is met. Here, A while loop evaluates the condition. If the condition evaluates to True , the code inside the while loop is executed.\n",
    "# Example:-\n",
    "    \n",
    "i=1\n",
    "n=5\n",
    "while i <= n:\n",
    "    print(i)\n",
    "    i = i + 1\n"
   ]
  },
  {
   "cell_type": "code",
   "execution_count": 6,
   "id": "3919aa78",
   "metadata": {},
   "outputs": [
    {
     "name": "stdout",
     "output_type": "stream",
     "text": [
      "Enter the number of rows: 5\n",
      "*\n",
      "**\n",
      "***\n",
      "****\n",
      "*****\n",
      "Enter the number of rows: 5\n",
      "*****\n",
      "****\n",
      "***\n",
      "**\n",
      "*\n",
      "\n",
      "Enter the number of rows: 5\n",
      "        *  \n",
      "       * *  \n",
      "      * * *  \n",
      "     * * * *  \n",
      "    * * * * *  \n"
     ]
    }
   ],
   "source": [
    "# Ques.6- Use nested loop to print 3 different pattern.\n",
    "    \n",
    "# 1-Pyramid pattern:-\n",
    "\n",
    "# Source code:-  \n",
    "    \n",
    "n = int(input(\"Enter the number of rows: \"))\n",
    "for i in  range(n):\n",
    "    for j in range(0,i+1):\n",
    "        print(\"*\",end=\"\")\n",
    "    print('\\r')\n",
    "\n",
    "\n",
    "# 2-Reverse pyramid pattern:-\n",
    "\n",
    "# Source code:-  \n",
    "        \n",
    "n = int(input(\"Enter the number of rows: \"))\n",
    "for i in  range(n+1,0,-1):\n",
    "    for j in range(0,i-1):\n",
    "        print(\"*\",end=\"\")\n",
    "    print('\\r')\n",
    "    \n",
    "# 3-Triangle pattern:-\n",
    "        \n",
    "# Source code:-  \n",
    "            \n",
    "n = int(input(\"Enter the number of rows: \"))  \n",
    "m = (2 * n) - 2  \n",
    "for i in range(0, n):  \n",
    "    for j in range(0, m):  \n",
    "        print(end=\" \")  \n",
    "    m = m - 1   \n",
    "    for j in range(0, i + 1):    \n",
    "        print(\"* \", end='')  \n",
    "    print(\" \")  \n",
    "\n",
    "    "
   ]
  },
  {
   "cell_type": "code",
   "execution_count": 7,
   "id": "c2db5b5e",
   "metadata": {
    "scrolled": true
   },
   "outputs": [
    {
     "name": "stdout",
     "output_type": "stream",
     "text": [
      "10\n",
      "9\n",
      "8\n",
      "7\n",
      "6\n",
      "5\n",
      "4\n",
      "3\n",
      "2\n",
      "1\n"
     ]
    }
   ],
   "source": [
    "# Ques.7- Reverse a while loop to display numbers from 10 to 1.\n",
    "\n",
    "# Source code:-\n",
    "    \n",
    "n=1\n",
    "i=10\n",
    "while (i>=n):\n",
    "    print(i)\n",
    "    i=i-1\n",
    "    "
   ]
  },
  {
   "cell_type": "code",
   "execution_count": null,
   "id": "3bf6e8d4",
   "metadata": {},
   "outputs": [],
   "source": []
  }
 ],
 "metadata": {
  "kernelspec": {
   "display_name": "Python 3 (ipykernel)",
   "language": "python",
   "name": "python3"
  },
  "language_info": {
   "codemirror_mode": {
    "name": "ipython",
    "version": 3
   },
   "file_extension": ".py",
   "mimetype": "text/x-python",
   "name": "python",
   "nbconvert_exporter": "python",
   "pygments_lexer": "ipython3",
   "version": "3.9.13"
  }
 },
 "nbformat": 4,
 "nbformat_minor": 5
}
