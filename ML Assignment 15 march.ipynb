{
 "cells": [
  {
   "cell_type": "markdown",
   "id": "14bd0d0e",
   "metadata": {},
   "source": [
    "##### Q1- Explain the following with an exaample\n",
    "1. Artificial Intelligence\n",
    "2. Machine Learning\n",
    "3. Deep Learning\n",
    "##### Ans:- Artificial Intelligence:-Artificial intelligence is the simulation of human intelligence processes by machines, especially computer systems. Specific applications of AI include expert systems, natural language processing, speech recognition and machine vision.\n",
    "Example-Autonomous vehicles – self-driving cars use AI to analyze sensor data, such as cameras and lidar, to make decisions about navigation, obstacle avoidance, and route planning.\n",
    "##### Machine Learning:-Machine learning is a discipline of computer science that uses computer algorithms and analytics to build predictive models that can solve business problems. \n",
    "Example-Personalized recommendations: E-commerce sites and streaming services like Amazon and Netflix use AI algorithms to analyze users’ browsing and viewing history to recommend products and content that they are likely to be interested in.\n",
    "##### Deep Learning:-Deep Learning is basically a sub-part of the broader family of Machine Learning which makes use of Neural Networks(similar to the neurons working in our brain) to mimic human brain-like behavior. DL algorithms focus on information processing patterns mechanism to possibly identify the patterns just like our human brain does and classifies the information accordingly. DL works on larger sets of data when compared to ML and the prediction mechanism is self-administered by machines.\n",
    "Example- Speech recognition: speech recognition systems use deep learning algorithms to recognize and classify images and speech. These systems are used in a variety of applications, such as self-driving cars, security systems, and medical imaging."
   ]
  },
  {
   "cell_type": "code",
   "execution_count": null,
   "id": "d103d38c",
   "metadata": {},
   "outputs": [],
   "source": []
  },
  {
   "cell_type": "markdown",
   "id": "2f83dcee",
   "metadata": {},
   "source": [
    "##### Q2- What is supervised learning? List some examples of supervised learning.\n",
    "#### Ans:- Supervised learning is the types of machine learning in which machines are trained using well \"labelled\" training data, and on basis of that data, machines predict the output. The labelled data means some input data is already tagged with the correct output.\n",
    "Example-n the real-world, supervised learning can be used for Risk Assessment, Image classification, Fraud Detection, spam filtering, etc."
   ]
  },
  {
   "cell_type": "code",
   "execution_count": null,
   "id": "a208dfd9",
   "metadata": {},
   "outputs": [],
   "source": []
  },
  {
   "cell_type": "markdown",
   "id": "eaf04431",
   "metadata": {},
   "source": [
    "##### Q3- What is unsupervised learning? List some examples of unsupervised learning.\n",
    "##### Ans- Unsupervised learning is a type of machine learning in which models are trained using unlabeled dataset and are allowed to act on that data without any supervision.\n",
    "Example-Social network analysis \n",
    "Market segmentation\n",
    "Astronomical data analysis"
   ]
  },
  {
   "cell_type": "code",
   "execution_count": null,
   "id": "f262bc05",
   "metadata": {},
   "outputs": [],
   "source": []
  },
  {
   "cell_type": "markdown",
   "id": "cde55231",
   "metadata": {},
   "source": [
    "##### Q4- What is the difference between AI, ML, DL, and DS?\n",
    "##### Ans:-\n",
    "| Artificial Intelligence|Machine Learning|Deep Learning|Data Science|\n",
    "|-----------------------|---------------|----------------------|--------------------|\n",
    "|AI stands for Artificial Intelligence, and is basically the study process which enables machines to mimic human behaviour through particular algorithm.|\tML stands for Machine Learning, and is the study that uses statistical methods enabling machines to improve with experience.|\tDL stands for Deep Learning, and is the study that makes use of Neural Networks(similar to neurons present in human brain) to imitate functionality just like a human brain.|Data Science is a field about processes and systems to extract data from structured and semi-structured data.|\n",
    "|AI is the broader family consisting of ML and DL as it’s components.|ML is the subset of AI.|\tDL is the subset of ML.|\n",
    "|AI is a computer algorithm which exhibits intelligence through decision making.|ML is an AI algorithm which allows system to learn from data.|\tDL is a ML algorithm that uses deep(more than one layer) neural networks to analyze data and provide output accordingly.|\tBranch that deals with data|\n",
    "|AI refers to the broad field of computer science that focuses on creating intelligent machines that can perform tasks that would normally require human intelligence, such as reasoning, perception, and decision-making.|\tML is a subset of AI that focuses on developing algorithms that can learn from data and improve their performance over time without being explicitly programmed.| \tDL is a subset of ML that focuses on developing deep neural networks that can automatically learn and extract features from data.|Data in Data Science maybe or maybe not evolved from a machine or mechanical process|\n",
    "|AI can be further broken down into various subfields such as robotics, natural language processing, computer vision, expert systems, and more.|\tML algorithms can be categorized as supervised, unsupervised, or reinforcement learning. In supervised learning, the algorithm is trained on labeled data, where the desired output is known. In unsupervised learning, the algorithm is trained on unlabeled data, where the desired output is unknown.|\t DL algorithms are inspired by the structure and function of the human brain, and they are particularly well-suited to tasks such as image and speech recognition. |Data Science as a broader term not only focuses on algorithms statistics but also takes care of the data processing.|\n",
    "|AI systems can be rule-based, knowledge-based, or data-driven.|In reinforcement learning, the algorithm learns by trial and error, receiving feedback in the form of rewards or punishments.|\t DL networks consist of multiple layers of interconnected neurons that process data in a hierarchical manner, allowing them to learn increasingly complex representations of the data.|\tMany operations of data science that is, data gathering, data cleaning, data manipulation, etc.|"
   ]
  },
  {
   "cell_type": "code",
   "execution_count": null,
   "id": "4840e635",
   "metadata": {},
   "outputs": [],
   "source": []
  },
  {
   "cell_type": "markdown",
   "id": "79e0fe77",
   "metadata": {},
   "source": [
    "##### Q5: What are the main differences between supervised, unsupervised, and semi-supervised learning?\n",
    "#####  Ans:- \n",
    "|Supervised Learning\t|Unsupervised Learning| Semisupervised Learning|\n",
    "|------------|------------------|------------------------|\n",
    "|Supervised learning algorithms are trained using labeled data.|\tUnsupervised learning algorithms are trained using unlabeled data.|Semi-Supervised learning is a type of Machine Learning algorithm that represents the intermediate ground between Supervised and Unsupervised learning algorithms. It uses the combination of labeled and unlabeled datasets during the training period.|\n",
    "|Supervised learning model takes direct feedback to check if it is predicting correct output or not.\t|Unsupervised learning model does not take any feedback.|Semi-supervised learning is the middle ground between supervised and unsupervised learning and operates on the data that consists of a few labels, it mostly consists of unlabeled data.|\n",
    "|Supervised learning model predicts the output.|\tUnsupervised learning model finds the hidden patterns in data.|\n",
    "|In supervised learning, input data is provided to the model along with the output.|\tIn unsupervised learning, only input data is provided to the model.| It uses a small amount of labeled data and a large amount of unlabeled data, which provides the benefits of both unsupervised and supervised learning while avoiding the challenges of finding a large amount of labeled data.| \n",
    "|It includes various algorithms such as Linear Regression, Logistic Regression, Support Vector Machine, Multi-class Classification, Decision tree, Bayesian Logic, etc.|\tIt includes various algorithms such as Clustering, KNN, and Apriori algorithm|A common example of an application of semi-supervised learning is a text document classifier.|"
   ]
  },
  {
   "cell_type": "code",
   "execution_count": null,
   "id": "87e0726d",
   "metadata": {},
   "outputs": [],
   "source": []
  },
  {
   "cell_type": "markdown",
   "id": "0819f515",
   "metadata": {},
   "source": [
    "##### Q6: What is train, test and validation split? Explain the importance of each term.\n",
    "##### Ans:-Training Set: The dataset that we feed our model to learn potential underlying patterns and relationships.\n",
    "##### Validation Set: The dataset that we use to understand our model's performance across different model types and hyperparameter choices.\n",
    "##### Test Set: The dataset that we use to approximate our model's unbiased accuracy in the wild."
   ]
  },
  {
   "cell_type": "code",
   "execution_count": null,
   "id": "a7883799",
   "metadata": {},
   "outputs": [],
   "source": []
  },
  {
   "cell_type": "markdown",
   "id": "59e83d15",
   "metadata": {},
   "source": [
    "##### Q7: How can unsupervised learning be used in anomaly detection?\n",
    "##### Ans:- Anomaly detection also known as outlier detection is the process of finding data points within a dataset that differs from the rest. Common applications of anomaly detection includes fraud detection in financial transactions, fault detection and predictive maintenance. Broadly speaking, anomaly detection can be categorized into supervised and unsupervised realm. Supervised anomaly detection requires labelled dataset that indicates if a record is “normal” or “abnormal”. Unsupervised anomaly detection involves an unlabeled dataset. It assumes that the majority data points in the unlabeled dataset are “normal” and it looks for data points that differs from the “normal” data points. In this article, we will be using Pycaret for detecting anomalies. Pycaret is an Automated Machine Learning (AutoML) tool that can be used for both supervised and unsupervised learning."
   ]
  },
  {
   "cell_type": "code",
   "execution_count": null,
   "id": "d82fe7da",
   "metadata": {},
   "outputs": [],
   "source": []
  },
  {
   "cell_type": "markdown",
   "id": "771607b5",
   "metadata": {},
   "source": [
    "##### Q8: List down some commonly used supervised learning algorithms and unsupervised learning algorithms\n",
    "##### Ans:- Supervised Learning Algorithms:\n",
    "All classification and regression algorithms come under supervised learning.\n",
    "###### Logistic Regression\n",
    "###### Decision trees\n",
    "###### Support vector machine (SVM)\n",
    "###### k-Nearest Neighbors\n",
    "###### Naive Bayes\n",
    "###### Random forest\n",
    "###### Linear regression\n",
    "###### polynomial regression\n",
    "###### SVM for regression.\n",
    "##### Unsupervised learning algorithms:\n",
    "All clustering algorithms come under unsupervised learning algorithms.\n",
    "\n",
    "###### K – means clustering\n",
    "###### Hierarchical clustering\n",
    "###### Hidden Markov models\n"
   ]
  },
  {
   "cell_type": "code",
   "execution_count": null,
   "id": "cc0ed41b",
   "metadata": {},
   "outputs": [],
   "source": []
  }
 ],
 "metadata": {
  "kernelspec": {
   "display_name": "Python 3 (ipykernel)",
   "language": "python",
   "name": "python3"
  },
  "language_info": {
   "codemirror_mode": {
    "name": "ipython",
    "version": 3
   },
   "file_extension": ".py",
   "mimetype": "text/x-python",
   "name": "python",
   "nbconvert_exporter": "python",
   "pygments_lexer": "ipython3",
   "version": "3.9.13"
  }
 },
 "nbformat": 4,
 "nbformat_minor": 5
}
