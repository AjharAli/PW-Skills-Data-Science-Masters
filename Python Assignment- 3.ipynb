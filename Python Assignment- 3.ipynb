{
 "cells": [
  {
   "cell_type": "markdown",
   "id": "2bb6d507",
   "metadata": {},
   "source": [
    "# PW Skills Data Science Masters \n",
    "## Python Assignment- 3"
   ]
  },
  {
   "cell_type": "markdown",
   "id": "c426530c",
   "metadata": {},
   "source": [
    "##### Ques.1- What are the characterisitics of tuple?  Is tuple is immutable.\n",
    "##### Ans- Characteristics of tuple are:-\n",
    "#####               (i) Tuple items are ordered.\n",
    "#####              (ii) Tuple are unchangeable.\n",
    "#####              (iii) Tuple elements can be accessed by index.\n",
    "#####              (iv) Tuple allow duplicate.\n",
    "\n",
    "##### YES, Tuple is immutable. Meaning, you cannot change items of a tuple once it is assigned.\n"
   ]
  },
  {
   "cell_type": "code",
   "execution_count": null,
   "id": "7f68f812",
   "metadata": {},
   "outputs": [],
   "source": []
  },
  {
   "cell_type": "markdown",
   "id": "7ea4a3b3",
   "metadata": {},
   "source": [
    "##### Ques.2- What are the two tuple method in python? Give an example of each method. Give a reason why tuples have only two in-built method as compared to list.\n",
    "##### Ans- There are only two tuple methods count() and index() that a tuple object can call.\n",
    "#####  Iteration in a tuple is faster as compared to lists since tuples in Python are immutable. Tuples are generally used for different Python Data Types; whereas, lists are used for similar data types."
   ]
  },
  {
   "cell_type": "code",
   "execution_count": 1,
   "id": "51b58df2",
   "metadata": {},
   "outputs": [
    {
     "data": {
      "text/plain": [
       "0"
      ]
     },
     "execution_count": 1,
     "metadata": {},
     "output_type": "execute_result"
    }
   ],
   "source": [
    "#Example\n",
    "#TO use the count() method in tuple\n",
    "tup=(1,2,4,5,6,82,5,7)\n",
    "tup.count(34)"
   ]
  },
  {
   "cell_type": "code",
   "execution_count": 2,
   "id": "762e7ca4",
   "metadata": {},
   "outputs": [
    {
     "data": {
      "text/plain": [
       "5"
      ]
     },
     "execution_count": 2,
     "metadata": {},
     "output_type": "execute_result"
    }
   ],
   "source": [
    "#TO use the index() method in tuple\n",
    "tup=(1,2,4,5,6,82,5,7)\n",
    "tup.index(82)"
   ]
  },
  {
   "cell_type": "code",
   "execution_count": null,
   "id": "67a35926",
   "metadata": {},
   "outputs": [],
   "source": []
  },
  {
   "cell_type": "markdown",
   "id": "1889f3ed",
   "metadata": {},
   "source": [
    "##### Ques.3- Which collection datatypes in python do not allow duplicate items? Write a code using a set to reomove duplicates from the given list. List=[1,1,1,2,1,3,1,4,2,1,2,2,2,3,2,4,1,3,2,3,3,3,4,4,1,4,2,4,3,4,4]\n",
    "#####  Ans- Sets are a collection that is unordered and unindexed. They are mutable (changeable) but do not allow duplicate values to be held."
   ]
  },
  {
   "cell_type": "code",
   "execution_count": 3,
   "id": "bf9463c9",
   "metadata": {},
   "outputs": [
    {
     "name": "stdout",
     "output_type": "stream",
     "text": [
      "{1, 2, 3, 4}\n"
     ]
    }
   ],
   "source": [
    "List=[1,1,1,2,1,3,1,4,2,1,2,2,2,3,2,4,1,3,2,3,3,3,4,4,1,4,2,4,3,4,4]\n",
    "duplicate_list=[]\n",
    "for i in List:\n",
    "    if i not in duplicate_list:\n",
    "        duplicate_list.append(i)\n",
    "print(set(duplicate_list))\n"
   ]
  },
  {
   "cell_type": "markdown",
   "id": "85bfb6b0",
   "metadata": {},
   "source": []
  },
  {
   "cell_type": "markdown",
   "id": "bb98c4e5",
   "metadata": {},
   "source": [
    "##### Ques.4- Explain different between the union() and update() methods for a set. Give an example of each method.\n",
    "##### Ans:- update() adds all missing elements to the set on which it is called whereas set. union() creates a new set. \n",
    "#####          s.union(t)  s | t   new set with elements from both s and t\n",
    "#####          s.update(t) s |= t  return set s with elements added from t"
   ]
  },
  {
   "cell_type": "code",
   "execution_count": 4,
   "id": "19c04cfa",
   "metadata": {},
   "outputs": [
    {
     "data": {
      "text/plain": [
       "{1, 2, 3, 4, 6, 7, 8, 9, 10, 11}"
      ]
     },
     "execution_count": 4,
     "metadata": {},
     "output_type": "execute_result"
    }
   ],
   "source": [
    "set1={1,3,4,6,7,8,9}\n",
    "set2={1,11,4,2,8,10}\n",
    "set1.union(set2)"
   ]
  },
  {
   "cell_type": "code",
   "execution_count": 5,
   "id": "4b9bca5f",
   "metadata": {},
   "outputs": [
    {
     "name": "stdout",
     "output_type": "stream",
     "text": [
      "{1, 3, 4, 6, 7, 8, 9, 10, 11}\n"
     ]
    }
   ],
   "source": [
    "set1={1,3,4,6,7,8,9}\n",
    "set2={1,11,10}\n",
    "set1.update(set2)\n",
    "print(set1)"
   ]
  },
  {
   "cell_type": "code",
   "execution_count": null,
   "id": "1431b304",
   "metadata": {},
   "outputs": [],
   "source": []
  },
  {
   "cell_type": "markdown",
   "id": "dda4396e",
   "metadata": {},
   "source": [
    "##### Ques.5- What is dictionary? Give an example. Also, state whether a dictionary is ordered or unorderd.\n",
    "##### Ans:- The dictionary is an unordered collection that contains key:value pairs separated by commas inside curly brackets. Dictionaries are optimized to retrieve values when the key is known.\n",
    "#####  The dictionary is an unordered collection.\n",
    "\n"
   ]
  },
  {
   "cell_type": "code",
   "execution_count": 6,
   "id": "98ae22b8",
   "metadata": {},
   "outputs": [
    {
     "data": {
      "text/plain": [
       "{1: 'One', 2: 'Two', 3: 'Three'}"
      ]
     },
     "execution_count": 6,
     "metadata": {},
     "output_type": "execute_result"
    }
   ],
   "source": [
    "#Example\n",
    "dictionary = {1:\"One\", 2:\"Two\", 3:\"Three\", 2:\"Two\", 1:\"One\"}\n",
    "dictionary"
   ]
  },
  {
   "cell_type": "code",
   "execution_count": 7,
   "id": "f6938b4f",
   "metadata": {},
   "outputs": [
    {
     "data": {
      "text/plain": [
       "dict_keys([1, 2, 3])"
      ]
     },
     "execution_count": 7,
     "metadata": {},
     "output_type": "execute_result"
    }
   ],
   "source": [
    "dictionary.keys()"
   ]
  },
  {
   "cell_type": "code",
   "execution_count": null,
   "id": "ec968095",
   "metadata": {},
   "outputs": [],
   "source": []
  },
  {
   "cell_type": "markdown",
   "id": "67530961",
   "metadata": {},
   "source": [
    "##### Ques.6- Can we create a nested dictionary? If,so please give an example by creating a simple one-level nested dictionary.\n",
    "##### Ans:- Yes,  simply pass dictionary key:value pair as keyword arguments to dict() Constructor."
   ]
  },
  {
   "cell_type": "code",
   "execution_count": 8,
   "id": "12def246",
   "metadata": {},
   "outputs": [
    {
     "name": "stdout",
     "output_type": "stream",
     "text": [
      "{1: 'Ajhar', 2: 'Ali', 3: {'A': 'Welcome', 'B': 'To', 'C': 'PW Skill Data Science Masters'}}\n"
     ]
    }
   ],
   "source": [
    "#Example\n",
    "Dict = {1: 'Ajhar', 2: 'Ali', 3: {'A' : 'Welcome', 'B' : 'To', 'C' : 'PW Skill Data Science Masters'}}\n",
    "print(Dict)"
   ]
  },
  {
   "cell_type": "code",
   "execution_count": null,
   "id": "f6d73385",
   "metadata": {},
   "outputs": [],
   "source": []
  },
  {
   "cell_type": "markdown",
   "id": "cd5cd9bd",
   "metadata": {},
   "source": [
    "##### Ques.7- Using setdefault() method, create key named topics in the given dictionary and also add the value of the key as this list ['Python','Machhine Learning','  Deep Learning']\n",
    "###### dict1 = {'language':'Python','course':'Data Science Masters'}"
   ]
  },
  {
   "cell_type": "code",
   "execution_count": 9,
   "id": "83e629bc",
   "metadata": {},
   "outputs": [
    {
     "name": "stdout",
     "output_type": "stream",
     "text": [
      "{'language': 'Python', 'course': 'Data Science Masters', 'Topics': ['Python', 'Machhine Learning', 'Deep Learning']}\n"
     ]
    }
   ],
   "source": [
    "dict1 = {'language':'Python','course':'Data Science Masters'}\n",
    "dict1.setdefault('Topics',['Python','Machhine Learning','Deep Learning'])\n",
    "print(dict1)"
   ]
  },
  {
   "cell_type": "code",
   "execution_count": null,
   "id": "e0e67855",
   "metadata": {},
   "outputs": [],
   "source": []
  },
  {
   "cell_type": "markdown",
   "id": "23a4ec77",
   "metadata": {},
   "source": [
    "##### Ques.8-  What are the three view objects in dictionaries? Use the three in-built methods in python to display these three view objects for the given dictionary.\n",
    "##### dict={'Sport':'Cricket', 'Teams':['India','Australia','England','South Africa','Sri Lanka','New Zealand']}\n",
    "##### Ans:- The three view objects of dictionary in python are keys, values and items. They provide a non-constant view of the dictionary’s entries.\n",
    "##### (i) keys()\n",
    "###### The view object keys represent all the keys in a dictionary. You can retrieve the contents of this object using the keys() method.\n",
    "###### (ii) Values()\n",
    "###### values() is an built in method of Python programming language which returns a view object. That view object contains the value of the dictionary as a list.\n",
    "##### (iii ) Items()\n",
    "###### The items() method returns a new view of the dictionary’s items ((key, value) pairs) as a list with all dictionary keys with values.\n"
   ]
  },
  {
   "cell_type": "code",
   "execution_count": 10,
   "id": "301934fd",
   "metadata": {},
   "outputs": [],
   "source": [
    "dict1={'Sport':'Cricket', 'Teams':['India','Australia','England','South Africa','Sri Lanka','New Zealand']}"
   ]
  },
  {
   "cell_type": "code",
   "execution_count": 11,
   "id": "87d4c12e",
   "metadata": {},
   "outputs": [
    {
     "data": {
      "text/plain": [
       "dict_keys(['Sport', 'Teams'])"
      ]
     },
     "execution_count": 11,
     "metadata": {},
     "output_type": "execute_result"
    }
   ],
   "source": [
    "dict1.keys()"
   ]
  },
  {
   "cell_type": "code",
   "execution_count": 12,
   "id": "19e19205",
   "metadata": {
    "scrolled": true
   },
   "outputs": [
    {
     "data": {
      "text/plain": [
       "dict_values(['Cricket', ['India', 'Australia', 'England', 'South Africa', 'Sri Lanka', 'New Zealand']])"
      ]
     },
     "execution_count": 12,
     "metadata": {},
     "output_type": "execute_result"
    }
   ],
   "source": [
    "dict1.values()"
   ]
  },
  {
   "cell_type": "code",
   "execution_count": 13,
   "id": "17472505",
   "metadata": {},
   "outputs": [
    {
     "data": {
      "text/plain": [
       "dict_items([('Sport', 'Cricket'), ('Teams', ['India', 'Australia', 'England', 'South Africa', 'Sri Lanka', 'New Zealand'])])"
      ]
     },
     "execution_count": 13,
     "metadata": {},
     "output_type": "execute_result"
    }
   ],
   "source": [
    "dict1.items()"
   ]
  },
  {
   "cell_type": "code",
   "execution_count": null,
   "id": "b4f9449b",
   "metadata": {},
   "outputs": [],
   "source": []
  }
 ],
 "metadata": {
  "kernelspec": {
   "display_name": "Python 3 (ipykernel)",
   "language": "python",
   "name": "python3"
  },
  "language_info": {
   "codemirror_mode": {
    "name": "ipython",
    "version": 3
   },
   "file_extension": ".py",
   "mimetype": "text/x-python",
   "name": "python",
   "nbconvert_exporter": "python",
   "pygments_lexer": "ipython3",
   "version": "3.9.13"
  }
 },
 "nbformat": 4,
 "nbformat_minor": 5
}
